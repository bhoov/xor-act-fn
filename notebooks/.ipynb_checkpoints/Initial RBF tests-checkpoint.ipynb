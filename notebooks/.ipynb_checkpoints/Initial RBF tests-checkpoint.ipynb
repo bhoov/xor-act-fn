{
 "cells": [
  {
   "cell_type": "code",
   "execution_count": 1,
   "metadata": {},
   "outputs": [],
   "source": [
    "import torch\n",
    "import matplotlib.pyplot as plt\n",
    "import numpy as np"
   ]
  },
  {
   "cell_type": "code",
   "execution_count": 91,
   "metadata": {},
   "outputs": [],
   "source": [
    "def rbf(x, eps=1):\n",
    "    \"\"\"Calculate the 1D gaussian RBF at x given an epsilon\"\"\"\n",
    "    return np.exp(-(eps * x)**2)\n",
    "\n",
    "def drbf(x, eps=1):\n",
    "    \"\"\"Calculate the derivative of a 1D gaussian RBF at x given an epsilon\"\"\"\n",
    "    return (-2 * eps**2 * x) * np.exp(-(eps*x)**2)\n",
    "\n",
    "def T2eps(T, s=0.001):\n",
    "    \"\"\"Calculate the epsilon needed such that rbf(T, eps) = s\n",
    "    \n",
    "    's' is a small number approximately 0 and T is the value at w\"\"\"\n",
    "    return 1/(2*T) * np.log(1/s)\n",
    "\n",
    "def xor_ap(x):\n",
    "    \"\"\"Calculate an action potential that can learn XOR.\n",
    "    \n",
    "    Main parameters:\n",
    "    - T : The threshold for the activation function\n",
    "    \"\"\"\n",
    "    T = 1\n",
    "    if x < T:\n",
    "        ep1 = T2eps(T)\n",
    "        out = rbf(x-T, ep1)\n",
    "        return out\n",
    "    else:\n",
    "        out = rbf(x-T)\n",
    "        return rbf(x-T)\n",
    "\n",
    "    \n"
   ]
  },
  {
   "cell_type": "code",
   "execution_count": 89,
   "metadata": {},
   "outputs": [
    {
     "data": {
      "text/plain": [
       "3.4538776394910684"
      ]
     },
     "execution_count": 89,
     "metadata": {},
     "output_type": "execute_result"
    }
   ],
   "source": [
    "T2eps(1)"
   ]
  },
  {
   "cell_type": "code",
   "execution_count": 94,
   "metadata": {},
   "outputs": [
    {
     "data": {
      "text/plain": [
       "[<matplotlib.lines.Line2D at 0x127d074e0>]"
      ]
     },
     "execution_count": 94,
     "metadata": {},
     "output_type": "execute_result"
    },
    {
     "data": {
      "image/png": "[encoded data removed]",
      "text/plain": [
       "<Figure size 432x288 with 1 Axes>"
      ]
     },
     "metadata": {},
     "output_type": "display_data"
    }
   ],
   "source": [
    "f = np.vectorize(drbf)\n",
    "xs = np.linspace(-7, 7, 1000)\n",
    "ys = f(xs)\n",
    "plt.plot(xs, ys)"
   ]
  }
 ],
 "metadata": {
  "kernelspec": {
   "display_name": "Python 3",
   "language": "python",
   "name": "python3"
  },
  "language_info": {
   "codemirror_mode": {
    "name": "ipython",
    "version": 3
   },
   "file_extension": ".py",
   "mimetype": "text/x-python",
   "name": "python",
   "nbconvert_exporter": "python",
   "pygments_lexer": "ipython3",
   "version": "3.6.5"
  }
 },
 "nbformat": 4,
 "nbformat_minor": 2
}
